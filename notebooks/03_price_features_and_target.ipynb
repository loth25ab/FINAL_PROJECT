{
 "cells": [
  {
   "cell_type": "markdown",
   "id": "583beaa1",
   "metadata": {},
   "source": [
    "# Price Feature Engineering & Target Construction\n",
    "\n",
    "In this notebook, we engineer additional price-based features from the S&P 500 daily closing prices and define our prediction targets. These features help capture recent price trends, volatility, and momentum, while our target variable identifies actionable trading signals for classification.\n"
   ]
  },
  {
   "cell_type": "markdown",
   "id": "30113dd1",
   "metadata": {},
   "source": [
    "## 1. Load and Align Data"
   ]
  },
  {
   "cell_type": "code",
   "execution_count": 47,
   "id": "3eac7361",
   "metadata": {},
   "outputs": [],
   "source": [
    "import pandas as pd\n",
    "\n",
    "# Load processed sentiment data (from previous notebook)\n",
    "sentiment_df = pd.read_csv(\"../data/daily_sentiment.csv\", parse_dates=['Date'])\n",
    "\n",
    "# Load original price/headline data to get full price history\n",
    "raw_df = pd.read_csv(\"../data/sp500_news.csv\", parse_dates=['Date'])\n",
    "\n",
    "# Only keep Date and CP (closing price), drop duplicates\n",
    "price_df = raw_df[['Date', 'CP']].drop_duplicates().sort_values('Date').reset_index(drop=True)\n",
    "\n",
    "# Merge sentiment with price\n",
    "data = pd.merge(price_df, sentiment_df, on=\"Date\", how=\"left\")"
   ]
  },
  {
   "cell_type": "markdown",
   "id": "bcc0834c",
   "metadata": {},
   "source": [
    "## 2. Price-Based Features\n",
    "\n",
    "We compute rolling statistics and percentage returns to capture trends and volatility, which are commonly used in quantitative finance."
   ]
  },
  {
   "cell_type": "code",
   "execution_count": 48,
   "id": "735a92d8",
   "metadata": {},
   "outputs": [],
   "source": [
    "# Rolling returns & volatility\n",
    "data['return_1d'] = data['CP'].pct_change()\n",
    "data['return_5d'] = data['CP'].pct_change(5)\n",
    "data['volatility_5d'] = data['return_1d'].rolling(5).std()\n",
    "\n",
    "# Rolling max/min (momentum proxies)\n",
    "data['roll_max_5d'] = data['CP'].rolling(5).max()\n",
    "data['roll_min_5d'] = data['CP'].rolling(5).min()\n",
    "\n",
    "# Simple lag features\n",
    "data['cp_lag1'] = data['CP'].shift(1)\n",
    "data['cp_lag2'] = data['CP'].shift(2)"
   ]
  },
  {
   "cell_type": "markdown",
   "id": "82674893",
   "metadata": {},
   "source": [
    "## 3. Target Variable Construction\n",
    "\n",
    "The `target` variable indicates the *predicted price direction*:\n",
    "- `1` = Predict upward movement (potential long trade)\n",
    "- `0` = Neutral (no trade)\n",
    "- `-1` = Predict downward movement (potential short trade)"
   ]
  },
  {
   "cell_type": "code",
   "execution_count": 49,
   "id": "04a8d226",
   "metadata": {},
   "outputs": [],
   "source": [
    "# Parameters for signal (adjust as needed)\n",
    "L_THRESH = 0.005   # +0.5% for long trade\n",
    "S_THRESH = -0.005  # -0.5% for short trade\n",
    "FWD_DAYS = 3       # Predict 2 days ahead\n",
    "\n",
    "# Compute forward return\n",
    "data['fwd_return'] = data['CP'].shift(-FWD_DAYS) / data['CP'] - 1\n",
    "\n",
    "# Define multiclass signal\n",
    "def signal(row):\n",
    "    if row['fwd_return'] >= L_THRESH:\n",
    "        return 1\n",
    "    elif row['fwd_return'] <= S_THRESH:\n",
    "        return -1\n",
    "    else:\n",
    "        return 0\n",
    "\n",
    "data['target'] = data.apply(signal, axis=1)\n"
   ]
  },
  {
   "cell_type": "markdown",
   "id": "c72674c9",
   "metadata": {},
   "source": [
    "## 4. Data Cleanup\n",
    "\n",
    "We drop rows with missing values resulting from rolling windows and forward returns."
   ]
  },
  {
   "cell_type": "code",
   "execution_count": 50,
   "id": "1b69113e",
   "metadata": {},
   "outputs": [
    {
     "name": "stdout",
     "output_type": "stream",
     "text": [
      "Saved modeling data: (1029, 22)\n"
     ]
    }
   ],
   "source": [
    "# Drop NAs from rolling features and targets\n",
    "data = data.dropna().reset_index(drop=True)\n",
    "\n",
    "# Save final modeling set\n",
    "data.to_csv(\"../data/features.csv\", index=False)\n",
    "print(f\"Saved modeling data: {data.shape}\")"
   ]
  },
  {
   "cell_type": "markdown",
   "id": "cea1e8f2",
   "metadata": {},
   "source": [
    "## 5. Quick Exploratory Checks\n",
    "\n",
    "- Distribution of target classes\n",
    "- Basic stats for new price features\n",
    "\n",
    "> These checks help confirm balanced classes and reasonable feature ranges for modeling."
   ]
  },
  {
   "cell_type": "code",
   "execution_count": 51,
   "id": "20c93170",
   "metadata": {},
   "outputs": [
    {
     "name": "stdout",
     "output_type": "stream",
     "text": [
      "target\n",
      " 1    0.453839\n",
      "-1    0.314869\n",
      " 0    0.231293\n",
      "Name: proportion, dtype: float64\n",
      "         return_1d  volatility_5d       target\n",
      "count  1029.000000    1029.000000  1029.000000\n",
      "mean      0.000535       0.011259     0.138970\n",
      "std       0.014362       0.009494     0.866097\n",
      "min      -0.119841       0.000904    -1.000000\n",
      "25%      -0.005797       0.006059    -1.000000\n",
      "50%       0.000812       0.009051     0.000000\n",
      "75%       0.007539       0.013530     1.000000\n",
      "max       0.093828       0.094495     1.000000\n"
     ]
    }
   ],
   "source": [
    "print(data['target'].value_counts(normalize=True))\n",
    "print(data[['return_1d', 'volatility_5d', 'target']].describe())"
   ]
  },
  {
   "cell_type": "markdown",
   "id": "5ffc13cf",
   "metadata": {},
   "source": [
    "## 6. Summary & Takeaways\n",
    "\n",
    "- **Price features and target variables were engineered to enable supervised learning on S&P 500 data.**\n",
    "    - Daily returns (`return_1d`) and recent volatility (`volatility_5d`) were computed as explanatory features.\n",
    "    - The `target` variable was generated to represent price movement classes:  \n",
    "        - `1`: Predict upward movement (long signal)  \n",
    "        - `0`: Neutral (no trade)  \n",
    "        - `-1`: Predict downward movement (short signal)\n",
    "- **Class distribution** is moderately imbalanced, with roughly half of days labeled as neutral, and positive/negative classes making up the remainder.\n",
    "- **Important:**  \n",
    "    - These labels signal the *predicted* price direction for the next period.  \n",
    "    - Actual trading outcomes (take profit, stop loss, etc.) depend on how trades are executed and exited according to subsequent price action—not on the label itself.\n",
    "\n",
    "This notebook establishes a solid base for supervised learning by providing clean features and an interpretable target, ready for model training and evaluation in the next step."
   ]
  }
 ],
 "metadata": {
  "kernelspec": {
   "display_name": "final_project_env",
   "language": "python",
   "name": "python3"
  },
  "language_info": {
   "codemirror_mode": {
    "name": "ipython",
    "version": 3
   },
   "file_extension": ".py",
   "mimetype": "text/x-python",
   "name": "python",
   "nbconvert_exporter": "python",
   "pygments_lexer": "ipython3",
   "version": "3.11.13"
  }
 },
 "nbformat": 4,
 "nbformat_minor": 5
}
