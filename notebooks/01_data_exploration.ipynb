{
 "cells": [
  {
   "cell_type": "markdown",
   "id": "9f1b40d2",
   "metadata": {},
   "source": [
    "# Project Introduction\n",
    "\n",
    "## Context & Motivation\n",
    "\n",
    "Financial markets are highly sensitive to news and public sentiment. Recent advances in Natural Language Processing (NLP) allow us to extract sentiment from financial news headlines and explore its impact on market movements. This project investigates whether daily news sentiment can help predict short-term trends in the S&P 500 index.\n",
    "\n",
    "## Objective\n",
    "\n",
    "The main objective is to build a machine learning pipeline that uses financial news headlines to generate actionable trading signals for the S&P 500 index. We combine headline sentiment analysis (using FinBERT) with historical price features and train a classification model to forecast market direction.\n",
    "\n",
    "## Workflow Overview\n",
    "\n",
    "This project is structured into four main notebooks:\n",
    "1. **Data Exploration:** Inspect, clean, and understand the news headlines and price dataset.\n",
    "2. **Sentiment Analysis:** Apply FinBERT to assign sentiment scores to each headline, and engineer additional sentiment-based features.\n",
    "3. **Feature Engineering & Modeling:** Merge sentiment and price features, define targets (price movement classes), and train/evaluate classification models (e.g., XGBoost).\n",
    "4. **Evaluation & Insights:** Assess model performance and extract actionable insights, including visualizations and error analysis.\n",
    "\n",
    "## Limitations & Scope\n",
    "\n",
    "- The analysis is constrained by the granularity of available news data (daily headlines, not intraday).\n",
    "- The focus is on practical signal generation, not perfect prediction or backtest optimization.\n",
    "- Due to time constraints, the modeling approach favors simplicity and transparency.\n",
    "\n",
    "---\n",
    "\n",
    "This notebook (1_data_exploration.ipynb) covers the first phase: importing, cleaning, and exploring the dataset to lay the foundation for sentiment analysis and model development.\n"
   ]
  },
  {
   "cell_type": "markdown",
   "id": "a9f1f230",
   "metadata": {},
   "source": [
    "## 0. Cleaning Data Folder"
   ]
  },
  {
   "cell_type": "code",
   "execution_count": 7,
   "id": "78b13547",
   "metadata": {},
   "outputs": [
    {
     "name": "stdout",
     "output_type": "stream",
     "text": [
      "Cleared 1 file(s) from ../data\n"
     ]
    }
   ],
   "source": [
    "import os\n",
    "import glob\n",
    "\n",
    "# Path to your data folder\n",
    "data_folder = \"../data\"\n",
    "\n",
    "# Delete all CSV files in the data folder\n",
    "files = glob.glob(os.path.join(data_folder, \"*.csv\"))\n",
    "for f in files:\n",
    "    os.remove(f)\n",
    "\n",
    "print(f\"Cleared {len(files)} file(s) from {data_folder}\")"
   ]
  },
  {
   "cell_type": "markdown",
   "id": "7fc04e88",
   "metadata": {},
   "source": [
    "## 1. Data Import & Setup\n",
    "\n",
    "We import necessary libraries and load the S&P 500 news headlines dataset, which includes news headlines and daily closing prices for the S&P 500 index from 2008 to 2024.\n",
    "\n",
    "### Dataset Description\n",
    "\n",
    "This analysis uses the dataset **“S&P 500 with Financial News Headlines (2008–2024)”** published by Dyuti Dasmahapatra on Kaggle [[1]].\n",
    "\n",
    "The dataset includes over 19,000 financial news headlines matched with the corresponding **daily closing prices of the S&P 500 index**, covering the period from 2008 to 2024. This allows for joint modeling of market movements and financial news sentiment — a useful setup for market sentiment analysis using models like FinBERT and XGBoost.\n",
    "\n",
    "#### Columns in the dataset:\n",
    "- `date`: The date the headline was published.\n",
    "- `headline`: The financial news headline text.\n",
    "- `close`: Closing price of the S&P 500 on the corresponding date.\n",
    "\n",
    "---\n",
    "\n",
    "### References\n",
    "\n",
    "[1] Dasmahapatra, D. (2024). *S&P 500 with Financial News Headlines (2008–2024)*. Kaggle. [https://www.kaggle.com/datasets/dyutidasmahaptra/s-and-p-500-with-financial-news-headlines-20082024](https://www.kaggle.com/datasets/dyutidasmahaptra/s-and-p-500-with-financial-news-headlines-20082024)\n",
    "\n"
   ]
  },
  {
   "cell_type": "code",
   "execution_count": 13,
   "id": "b0a55dbf",
   "metadata": {},
   "outputs": [
    {
     "name": "stdout",
     "output_type": "stream",
     "text": [
      "Downloaded dataset to: C:\\Users\\louft\\.cache\\kagglehub\\datasets\\dyutidasmahaptra\\s-and-p-500-with-financial-news-headlines-20082024\\versions\\1\n",
      "Dataset saved to: c:\\Users\\louft\\OneDrive\\Desktop\\MBA\\05-HIV25\\AI_and_ML\\AIML25\\FINAL_PROJECT\\data\\sp500_news_full.csv\n",
      "Dataset loaded. Shape: (19127, 3)\n"
     ]
    }
   ],
   "source": [
    "import pandas as pd\n",
    "import matplotlib.pyplot as plt\n",
    "import seaborn as sns\n",
    "import numpy as np\n",
    "import kagglehub\n",
    "import os\n",
    "import shutil\n",
    "\n",
    "# Set plotting style for consistency\n",
    "sns.set(style='whitegrid')\n",
    "\n",
    "# Download dataset\n",
    "path = kagglehub.dataset_download(\"dyutidasmahaptra/s-and-p-500-with-financial-news-headlines-20082024\")\n",
    "print(\"Downloaded dataset to:\", path)\n",
    "\n",
    "# Find the first CSV file in the dataset folder\n",
    "csv_path = None\n",
    "for root, dirs, files in os.walk(path):\n",
    "    for file in files:\n",
    "        if file.endswith(\".csv\"):\n",
    "            csv_path = os.path.join(root, file)\n",
    "            break\n",
    "    if csv_path:\n",
    "        break\n",
    "\n",
    "if not csv_path:\n",
    "    raise FileNotFoundError(\"No CSV file found in dataset.\")\n",
    "\n",
    "# Define relative target path: ../data/sp500_news.csv (from current working dir)\n",
    "target_dir = os.path.abspath(os.path.join(os.getcwd(), \"../data\"))\n",
    "os.makedirs(target_dir, exist_ok=True)\n",
    "target_path = os.path.join(target_dir, \"sp500_news_full.csv\")\n",
    "\n",
    "# Copy the CSV\n",
    "shutil.copy(csv_path, target_path)\n",
    "\n",
    "print(f\"Dataset saved to: {target_path}\")\n",
    "\n",
    "# Load the dataset\n",
    "df = pd.read_csv(\"../data/sp500_news.csv\", parse_dates=['Date'])\n",
    "\n",
    "print(\"Dataset loaded. Shape:\", df.shape)\n"
   ]
  },
  {
   "cell_type": "markdown",
   "id": "c78e8a0e",
   "metadata": {},
   "source": [
    "## 2. Data Overview & Quality Check\n",
    "\n",
    "A brief preview of the dataset to understand its shape, column names, and example rows. This step is crucial for aligning our expectations with the actual data. We also take the opportunity to check for missing values, duplicates, and any obvious data quality issues (e.g., empty headlines, invalid dates). These insights will help inform our cleaning strategy."
   ]
  },
  {
   "cell_type": "code",
   "execution_count": 9,
   "id": "b8f831be",
   "metadata": {},
   "outputs": [
    {
     "name": "stdout",
     "output_type": "stream",
     "text": [
      "Columns: ['Title', 'Date', 'CP']\n"
     ]
    },
    {
     "data": {
      "text/html": [
       "<div>\n",
       "<style scoped>\n",
       "    .dataframe tbody tr th:only-of-type {\n",
       "        vertical-align: middle;\n",
       "    }\n",
       "\n",
       "    .dataframe tbody tr th {\n",
       "        vertical-align: top;\n",
       "    }\n",
       "\n",
       "    .dataframe thead th {\n",
       "        text-align: right;\n",
       "    }\n",
       "</style>\n",
       "<table border=\"1\" class=\"dataframe\">\n",
       "  <thead>\n",
       "    <tr style=\"text-align: right;\">\n",
       "      <th></th>\n",
       "      <th>Title</th>\n",
       "      <th>Date</th>\n",
       "      <th>CP</th>\n",
       "    </tr>\n",
       "  </thead>\n",
       "  <tbody>\n",
       "    <tr>\n",
       "      <th>0</th>\n",
       "      <td>JPMorgan Predicts 2008 Will Be \"Nothing But Net\"</td>\n",
       "      <td>2008-01-02</td>\n",
       "      <td>1447.16</td>\n",
       "    </tr>\n",
       "    <tr>\n",
       "      <th>1</th>\n",
       "      <td>Dow Tallies Biggest First-session-of-year Poin...</td>\n",
       "      <td>2008-01-02</td>\n",
       "      <td>1447.16</td>\n",
       "    </tr>\n",
       "    <tr>\n",
       "      <th>2</th>\n",
       "      <td>2008 predictions for the S&amp;P 500</td>\n",
       "      <td>2008-01-02</td>\n",
       "      <td>1447.16</td>\n",
       "    </tr>\n",
       "    <tr>\n",
       "      <th>3</th>\n",
       "      <td>U.S. Stocks Higher After Economic Data, Monsan...</td>\n",
       "      <td>2008-01-03</td>\n",
       "      <td>1447.16</td>\n",
       "    </tr>\n",
       "    <tr>\n",
       "      <th>4</th>\n",
       "      <td>U.S. Stocks Climb As Hopes Increase For More F...</td>\n",
       "      <td>2008-01-07</td>\n",
       "      <td>1416.18</td>\n",
       "    </tr>\n",
       "  </tbody>\n",
       "</table>\n",
       "</div>"
      ],
      "text/plain": [
       "                                               Title       Date       CP\n",
       "0   JPMorgan Predicts 2008 Will Be \"Nothing But Net\" 2008-01-02  1447.16\n",
       "1  Dow Tallies Biggest First-session-of-year Poin... 2008-01-02  1447.16\n",
       "2                   2008 predictions for the S&P 500 2008-01-02  1447.16\n",
       "3  U.S. Stocks Higher After Economic Data, Monsan... 2008-01-03  1447.16\n",
       "4  U.S. Stocks Climb As Hopes Increase For More F... 2008-01-07  1416.18"
      ]
     },
     "metadata": {},
     "output_type": "display_data"
    },
    {
     "name": "stdout",
     "output_type": "stream",
     "text": [
      "<class 'pandas.core.frame.DataFrame'>\n",
      "RangeIndex: 19127 entries, 0 to 19126\n",
      "Data columns (total 3 columns):\n",
      " #   Column  Non-Null Count  Dtype         \n",
      "---  ------  --------------  -----         \n",
      " 0   Title   19127 non-null  object        \n",
      " 1   Date    19127 non-null  datetime64[ns]\n",
      " 2   CP      19127 non-null  float64       \n",
      "dtypes: datetime64[ns](1), float64(1), object(1)\n",
      "memory usage: 448.4+ KB\n"
     ]
    },
    {
     "data": {
      "text/plain": [
       "None"
      ]
     },
     "metadata": {},
     "output_type": "display_data"
    }
   ],
   "source": [
    "# Show columns and first few rows\n",
    "print(\"Columns:\", df.columns.tolist())\n",
    "display(df.head())\n",
    "\n",
    "# Show data types and non-null counts\n",
    "display(df.info())"
   ]
  },
  {
   "cell_type": "code",
   "execution_count": 10,
   "id": "489f3e7b",
   "metadata": {},
   "outputs": [
    {
     "name": "stdout",
     "output_type": "stream",
     "text": [
      "Title    0\n",
      "Date     0\n",
      "CP       0\n",
      "dtype: int64\n",
      "Duplicate rows: 1073\n",
      "Empty or blank headlines: 0\n"
     ]
    }
   ],
   "source": [
    "# Check missing values\n",
    "print(df.isnull().sum())\n",
    "\n",
    "# Check duplicates\n",
    "print(\"Duplicate rows:\", df.duplicated(subset=['Title']).sum())\n",
    "\n",
    "# Quick check for empty headlines\n",
    "empty_headlines = df['Title'].isnull().sum() + (df['Title'].str.strip() == '').sum()\n",
    "print(\"Empty or blank headlines:\", empty_headlines)"
   ]
  },
  {
   "cell_type": "code",
   "execution_count": 11,
   "id": "a3521771",
   "metadata": {},
   "outputs": [
    {
     "name": "stdout",
     "output_type": "stream",
     "text": [
      "Removed 1073 duplicate titles. 18054 unique headlines remain.\n"
     ]
    }
   ],
   "source": [
    "# Remove duplicates based on Title only\n",
    "before = len(df)\n",
    "df = df.drop_duplicates(subset=['Title'])\n",
    "after = len(df)\n",
    "\n",
    "print(f\"Removed {before - after} duplicate titles. {after} unique headlines remain.\")"
   ]
  },
  {
   "cell_type": "markdown",
   "id": "e2170611",
   "metadata": {},
   "source": [
    "### Data Overview & Quality Assessment\n",
    "\n",
    "- Initial dataset: 19,127 rows, 3 columns (Title, Date, CP)\n",
    "- No missing values detected.\n",
    "- 1,073 duplicate headlines (based on Title) removed; 18,054 unique headlines remain.\n",
    "- No blank headlines.\n",
    "\n",
    "The dataset is now clean and ready for analysis."
   ]
  },
  {
   "cell_type": "markdown",
   "id": "ba4284a3",
   "metadata": {},
   "source": [
    "## 3. Exploratory Data Analysis (EDA)\n",
    "\n",
    "We conduct initial statistical and visual analysis, including:\n",
    "- Distribution of closing prices\n",
    "- Frequency of headlines per day\n",
    "- Example headlines on key market dates\n",
    "This step helps us understand both the news and the market context before feature engineering."
   ]
  },
  {
   "cell_type": "code",
   "execution_count": 12,
   "id": "54dd465e",
   "metadata": {},
   "outputs": [
    {
     "data": {
      "image/png": "[encoded data removed]",
      "text/plain": [
       "<Figure size 800x400 with 1 Axes>"
      ]
     },
     "metadata": {},
     "output_type": "display_data"
    },
    {
     "data": {
      "image/png": "[encoded data removed]",
      "text/plain": [
       "<Figure size 1200x400 with 1 Axes>"
      ]
     },
     "metadata": {},
     "output_type": "display_data"
    },
    {
     "name": "stdout",
     "output_type": "stream",
     "text": [
      "Example headlines on most volatile days:\n",
      "\n",
      "Date: 2020-03-16 00:00:00\n"
     ]
    },
    {
     "data": {
      "text/html": [
       "<div>\n",
       "<style scoped>\n",
       "    .dataframe tbody tr th:only-of-type {\n",
       "        vertical-align: middle;\n",
       "    }\n",
       "\n",
       "    .dataframe tbody tr th {\n",
       "        vertical-align: top;\n",
       "    }\n",
       "\n",
       "    .dataframe thead th {\n",
       "        text-align: right;\n",
       "    }\n",
       "</style>\n",
       "<table border=\"1\" class=\"dataframe\">\n",
       "  <thead>\n",
       "    <tr style=\"text-align: right;\">\n",
       "      <th></th>\n",
       "      <th>Title</th>\n",
       "      <th>CP</th>\n",
       "    </tr>\n",
       "  </thead>\n",
       "  <tbody>\n",
       "    <tr>\n",
       "      <th>8728</th>\n",
       "      <td>S&amp;P 500 Plunged Most Since 1987, Gave Up in 18...</td>\n",
       "      <td>2386.13</td>\n",
       "    </tr>\n",
       "    <tr>\n",
       "      <th>8729</th>\n",
       "      <td>Can Mastercard Stock Recover Its Lost Value Po...</td>\n",
       "      <td>2386.13</td>\n",
       "    </tr>\n",
       "    <tr>\n",
       "      <th>8730</th>\n",
       "      <td>Is Walmart A Safer Bet During The Current Coro...</td>\n",
       "      <td>2386.13</td>\n",
       "    </tr>\n",
       "    <tr>\n",
       "      <th>8731</th>\n",
       "      <td>The U.S. Is In A Bear Market. There Could Be A...</td>\n",
       "      <td>2386.13</td>\n",
       "    </tr>\n",
       "    <tr>\n",
       "      <th>8732</th>\n",
       "      <td>Coronavirus stock crash wipes out 80% of Trump...</td>\n",
       "      <td>2386.13</td>\n",
       "    </tr>\n",
       "    <tr>\n",
       "      <th>8733</th>\n",
       "      <td>A Discount in SPY? That's Inconceivable!</td>\n",
       "      <td>2386.13</td>\n",
       "    </tr>\n",
       "    <tr>\n",
       "      <th>8734</th>\n",
       "      <td>Nasdaq Held Its 200-Week Moving Average - S&amp;P ...</td>\n",
       "      <td>2386.13</td>\n",
       "    </tr>\n",
       "    <tr>\n",
       "      <th>8735</th>\n",
       "      <td>Stock markets halted for unprecedented third t...</td>\n",
       "      <td>2386.13</td>\n",
       "    </tr>\n",
       "    <tr>\n",
       "      <th>8736</th>\n",
       "      <td>S&amp;P 500: “Limit Down” Index Futures Mask Even ...</td>\n",
       "      <td>2386.13</td>\n",
       "    </tr>\n",
       "    <tr>\n",
       "      <th>8737</th>\n",
       "      <td>Dow and US stocks plunge again: Live updates</td>\n",
       "      <td>2386.13</td>\n",
       "    </tr>\n",
       "    <tr>\n",
       "      <th>8738</th>\n",
       "      <td>Trump's Stock Market Gains Are Evaporating</td>\n",
       "      <td>2386.13</td>\n",
       "    </tr>\n",
       "    <tr>\n",
       "      <th>8739</th>\n",
       "      <td>US Steel's Stock Down 44% In A Month; Will It ...</td>\n",
       "      <td>2386.13</td>\n",
       "    </tr>\n",
       "    <tr>\n",
       "      <th>8740</th>\n",
       "      <td>Emerging market debt: To hold, or not to hold?</td>\n",
       "      <td>2386.13</td>\n",
       "    </tr>\n",
       "    <tr>\n",
       "      <th>8741</th>\n",
       "      <td>VIX at 76 Means Two More Weeks of Pain Going b...</td>\n",
       "      <td>2386.13</td>\n",
       "    </tr>\n",
       "    <tr>\n",
       "      <th>8742</th>\n",
       "      <td>Tony Dwyer Says There's No Point Making S&amp;P 50...</td>\n",
       "      <td>2386.13</td>\n",
       "    </tr>\n",
       "    <tr>\n",
       "      <th>8743</th>\n",
       "      <td>Stock market live Monday: Dow drops 13%, Trump...</td>\n",
       "      <td>2386.13</td>\n",
       "    </tr>\n",
       "    <tr>\n",
       "      <th>8744</th>\n",
       "      <td>Based on history, the stock market is pricing ...</td>\n",
       "      <td>2386.13</td>\n",
       "    </tr>\n",
       "    <tr>\n",
       "      <th>8745</th>\n",
       "      <td>Stocks At Critical Level, Failure To Hold Sets...</td>\n",
       "      <td>2386.13</td>\n",
       "    </tr>\n",
       "    <tr>\n",
       "      <th>8746</th>\n",
       "      <td>Here's where Goldman Sachs predicts the stock ...</td>\n",
       "      <td>2386.13</td>\n",
       "    </tr>\n",
       "    <tr>\n",
       "      <th>8747</th>\n",
       "      <td>Stock market news live: Coronavirus jitters se...</td>\n",
       "      <td>2386.13</td>\n",
       "    </tr>\n",
       "  </tbody>\n",
       "</table>\n",
       "</div>"
      ],
      "text/plain": [
       "                                                  Title       CP\n",
       "8728  S&P 500 Plunged Most Since 1987, Gave Up in 18...  2386.13\n",
       "8729  Can Mastercard Stock Recover Its Lost Value Po...  2386.13\n",
       "8730  Is Walmart A Safer Bet During The Current Coro...  2386.13\n",
       "8731  The U.S. Is In A Bear Market. There Could Be A...  2386.13\n",
       "8732  Coronavirus stock crash wipes out 80% of Trump...  2386.13\n",
       "8733           A Discount in SPY? That's Inconceivable!  2386.13\n",
       "8734  Nasdaq Held Its 200-Week Moving Average - S&P ...  2386.13\n",
       "8735  Stock markets halted for unprecedented third t...  2386.13\n",
       "8736  S&P 500: “Limit Down” Index Futures Mask Even ...  2386.13\n",
       "8737       Dow and US stocks plunge again: Live updates  2386.13\n",
       "8738         Trump's Stock Market Gains Are Evaporating  2386.13\n",
       "8739  US Steel's Stock Down 44% In A Month; Will It ...  2386.13\n",
       "8740     Emerging market debt: To hold, or not to hold?  2386.13\n",
       "8741  VIX at 76 Means Two More Weeks of Pain Going b...  2386.13\n",
       "8742  Tony Dwyer Says There's No Point Making S&P 50...  2386.13\n",
       "8743  Stock market live Monday: Dow drops 13%, Trump...  2386.13\n",
       "8744  Based on history, the stock market is pricing ...  2386.13\n",
       "8745  Stocks At Critical Level, Failure To Hold Sets...  2386.13\n",
       "8746  Here's where Goldman Sachs predicts the stock ...  2386.13\n",
       "8747  Stock market news live: Coronavirus jitters se...  2386.13"
      ]
     },
     "metadata": {},
     "output_type": "display_data"
    },
    {
     "name": "stdout",
     "output_type": "stream",
     "text": [
      "\n",
      "Date: 2009-03-13 00:00:00\n"
     ]
    },
    {
     "data": {
      "text/html": [
       "<div>\n",
       "<style scoped>\n",
       "    .dataframe tbody tr th:only-of-type {\n",
       "        vertical-align: middle;\n",
       "    }\n",
       "\n",
       "    .dataframe tbody tr th {\n",
       "        vertical-align: top;\n",
       "    }\n",
       "\n",
       "    .dataframe thead th {\n",
       "        text-align: right;\n",
       "    }\n",
       "</style>\n",
       "<table border=\"1\" class=\"dataframe\">\n",
       "  <thead>\n",
       "    <tr style=\"text-align: right;\">\n",
       "      <th></th>\n",
       "      <th>Title</th>\n",
       "      <th>CP</th>\n",
       "    </tr>\n",
       "  </thead>\n",
       "  <tbody>\n",
       "    <tr>\n",
       "      <th>163</th>\n",
       "      <td>Barry Ritholtz's Monkey Theory</td>\n",
       "      <td>756.55</td>\n",
       "    </tr>\n",
       "  </tbody>\n",
       "</table>\n",
       "</div>"
      ],
      "text/plain": [
       "                              Title      CP\n",
       "163  Barry Ritholtz's Monkey Theory  756.55"
      ]
     },
     "metadata": {},
     "output_type": "display_data"
    },
    {
     "name": "stdout",
     "output_type": "stream",
     "text": [
      "\n",
      "Date: 2009-07-31 00:00:00\n"
     ]
    },
    {
     "data": {
      "text/html": [
       "<div>\n",
       "<style scoped>\n",
       "    .dataframe tbody tr th:only-of-type {\n",
       "        vertical-align: middle;\n",
       "    }\n",
       "\n",
       "    .dataframe tbody tr th {\n",
       "        vertical-align: top;\n",
       "    }\n",
       "\n",
       "    .dataframe thead th {\n",
       "        text-align: right;\n",
       "    }\n",
       "</style>\n",
       "<table border=\"1\" class=\"dataframe\">\n",
       "  <thead>\n",
       "    <tr style=\"text-align: right;\">\n",
       "      <th></th>\n",
       "      <th>Title</th>\n",
       "      <th>CP</th>\n",
       "    </tr>\n",
       "  </thead>\n",
       "  <tbody>\n",
       "    <tr>\n",
       "      <th>193</th>\n",
       "      <td>July 2009 Crossing Wall Street</td>\n",
       "      <td>987.48</td>\n",
       "    </tr>\n",
       "  </tbody>\n",
       "</table>\n",
       "</div>"
      ],
      "text/plain": [
       "                              Title      CP\n",
       "193  July 2009 Crossing Wall Street  987.48"
      ]
     },
     "metadata": {},
     "output_type": "display_data"
    }
   ],
   "source": [
    "# Distribution of closing prices\n",
    "plt.figure(figsize=(8, 4))\n",
    "sns.histplot(df['CP'], bins=50, kde=True)\n",
    "plt.title(\"Distribution of S&P 500 Closing Prices\")\n",
    "plt.xlabel(\"Closing Price\")\n",
    "plt.ylabel(\"Frequency\")\n",
    "plt.show()\n",
    "\n",
    "# Headlines per day\n",
    "headline_counts = df.groupby('Date')['Title'].count()\n",
    "plt.figure(figsize=(12, 4))\n",
    "headline_counts.plot()\n",
    "plt.title(\"Number of Headlines per Day\")\n",
    "plt.xlabel(\"Date\")\n",
    "plt.ylabel(\"Headline Count\")\n",
    "plt.show()\n",
    "\n",
    "# Example headlines on volatile days (e.g., top 3 biggest daily % moves)\n",
    "df['CP_shifted'] = df['CP'].shift(1)\n",
    "df['pct_change'] = df['CP'].pct_change()\n",
    "top_moves = df.loc[abs(df['pct_change']).sort_values(ascending=False).index[:3]]\n",
    "\n",
    "print(\"Example headlines on most volatile days:\")\n",
    "for Date in top_moves['Date'].unique():\n",
    "    print(f\"\\nDate: {Date}\")\n",
    "    display(df[df['Date'] == Date][['Title', 'CP']])"
   ]
  },
  {
   "cell_type": "markdown",
   "id": "3b252a91",
   "metadata": {},
   "source": [
    "## 4. Summary & Takeaways\n",
    "\n",
    "- **Price Distribution:**  \n",
    "  The S&P 500 closing prices display several distinct peaks and troughs, highlighting key phases of market growth and volatility over time.\n",
    "\n",
    "- **Headline Coverage:**  \n",
    "  The volume of daily news headlines rises sharply after 2020, meaning the dataset is much richer and denser in recent years. Early periods (pre-2015) are relatively sparse in headline data.\n",
    "\n",
    "- **Volatility & Headlines:**  \n",
    "  The most volatile trading days (e.g., the 2020 COVID-19 crash) are associated with a high frequency of news headlines and heightened market sentiment—often reflecting panic or uncertainty.\n",
    "\n",
    "- **Data Quality:**  \n",
    "  After removing 1,073 duplicate headlines, the dataset contains 18,054 unique headlines, with no missing values in key columns.\n",
    "\n",
    "**Takeaways:**  \n",
    "- Model performance will likely be strongest on recent years due to denser headline data.\n",
    "- Market crises are well-captured in both price and news data, supporting sentiment–price relationship analysis.\n",
    "- Analysis on early years should be interpreted with caution due to sparse headline coverage.\n",
    "\n",
    "**Conclusion:**\n",
    "  To ensure the model is trained on market conditions and news flow that best reflect the current and foreseeable environment, we focus our analysis on the period from January 2020 to June 2024. This window includes unprecedented volatility, major shifts in global sentiment, and aligns with the densest portion of the available headline data."
   ]
  },
  {
   "cell_type": "code",
   "execution_count": 14,
   "id": "8aae21a0",
   "metadata": {},
   "outputs": [],
   "source": [
    "# Filter on dates to focus our analysis on the period from January 2020 to June 2024\n",
    "df = df[df['Date'] >= '2020-01-01']\n",
    "\n",
    "# Export truncated dataframe for use in subsequent modeling notebooks.\n",
    "df.to_csv('../data/sp500_news.csv', index=False)"
   ]
  }
 ],
 "metadata": {
  "kernelspec": {
   "display_name": "final_project_env",
   "language": "python",
   "name": "python3"
  },
  "language_info": {
   "codemirror_mode": {
    "name": "ipython",
    "version": 3
   },
   "file_extension": ".py",
   "mimetype": "text/x-python",
   "name": "python",
   "nbconvert_exporter": "python",
   "pygments_lexer": "ipython3",
   "version": "3.11.13"
  }
 },
 "nbformat": 4,
 "nbformat_minor": 5
}
